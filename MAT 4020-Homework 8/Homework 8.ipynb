{
 "cells": [
  {
   "cell_type": "code",
   "execution_count": 1,
   "metadata": {},
   "outputs": [],
   "source": [
    "# Install Required Libraries\n",
    "using Printf\n",
    "using Plots\n",
    "using LaTeXStrings"
   ]
  },
  {
   "cell_type": "code",
   "execution_count": 2,
   "metadata": {},
   "outputs": [
    {
     "data": {
      "text/plain": [
       "FD (generic function with 1 method)"
      ]
     },
     "metadata": {},
     "output_type": "display_data"
    }
   ],
   "source": [
    "# Foward Difference Approximation\n",
    "function FD(f,x,h)\n",
    "    return (f(x+h) - f(x))/h \n",
    "  end"
   ]
  },
  {
   "cell_type": "code",
   "execution_count": 3,
   "metadata": {},
   "outputs": [
    {
     "data": {
      "text/plain": [
       "BD (generic function with 1 method)"
      ]
     },
     "metadata": {},
     "output_type": "display_data"
    }
   ],
   "source": [
    "# Backward Difference Approximation\n",
    "function BD(f,x,h)\n",
    "    return (f(x) - f(x-h))/h\n",
    "  end\n",
    "  "
   ]
  },
  {
   "cell_type": "code",
   "execution_count": 4,
   "metadata": {},
   "outputs": [
    {
     "data": {
      "text/plain": [
       "CD (generic function with 1 method)"
      ]
     },
     "metadata": {},
     "output_type": "display_data"
    }
   ],
   "source": [
    "# Centered Difference Approximation\n",
    "function CD(f,x,h)\n",
    "    return (f(x+h) - f(x-h))/(2*h)\n",
    "  end\n",
    "  "
   ]
  },
  {
   "cell_type": "code",
   "execution_count": 5,
   "metadata": {},
   "outputs": [
    {
     "data": {
      "text/plain": [
       "3-element Vector{Float64}:\n",
       " 0.0\n",
       " 2.0\n",
       " 2.1"
      ]
     },
     "metadata": {},
     "output_type": "display_data"
    }
   ],
   "source": [
    "# Set up experiment\n",
    "hs = [1e-1, 1e-2, 1e-3, 1e-4]\n",
    "f_1(x) = sin.(x)\n",
    "f_2(x) = x*exp(-x)\n",
    "fs = [f_1, f_2,f_2]\n",
    "f_trues = [cos.(0), -exp(-2)*(2-1),-exp(-2.1)*(2.1-1)]\n",
    "xs = [0, 2, 2.1]"
   ]
  },
  {
   "cell_type": "code",
   "execution_count": 8,
   "metadata": {},
   "outputs": [
    {
     "name": "stdout",
     "output_type": "stream",
     "text": [
      "f_1:\n",
      "\t 0.1000:\n",
      "\t FD - 1.6658335317184525E-03 \t BD - 1.6658335317184525E-03 \t CD - 1.6658335317184525E-03\n",
      "\t 0.0100:\n",
      "\t FD - 1.6666583333546647E-05 \t BD - 1.6666583333546647E-05 \t CD - 1.6666583333546647E-05\n",
      "\t 0.0010:\n",
      "\t FD - 1.6666665836329031E-07 \t BD - 1.6666665836329031E-07 \t CD - 1.6666665836329031E-07\n",
      "\t 0.0001:\n",
      "\t FD - 1.6666665825226801E-09 \t BD - 1.6666665825226801E-09 \t CD - 1.6666665825226801E-09\n",
      "f_2:\n",
      "\t 0.1000:\n",
      "\t FD - 2.1461181697868259E-04 \t BD - 2.3718273880080076E-04 \t CD - 2.2589727788974168E-04\n",
      "\t 0.0100:\n",
      "\t FD - 2.2443438695285423E-06 \t BD - 2.2668999098973686E-06 \t CD - 2.2556218897129554E-06\n",
      "\t 0.0010:\n",
      "\t FD - 2.2544630495779927E-08 \t BD - 2.2567223534331049E-08 \t CD - 2.2555927015055488E-08\n",
      "\t 0.0001:\n",
      "\t FD - 2.2526192022809255E-10 \t BD - 2.2581703174040513E-10 \t CD - 2.2553947598424884E-10\n",
      "f_3:\n",
      "\t 0.1000:\n",
      "\t FD - 7.8656173700539234E-04 \t BD - 4.1860034135390856E-04 \t CD - 1.8398069782574189E-04\n",
      "\t 0.0100:\n",
      "\t FD - 6.3055395610772669E-05 \t BD - 5.9381643568695575E-05 \t CD - 1.8368760210385471E-06\n",
      "\t 0.0010:\n",
      "\t FD - 6.1411802146638106E-06 \t BD - 6.1044432450307884E-06 \t CD - 1.8368484816511099E-08\n",
      "\t 0.0001:\n",
      "\t FD - 6.1246545088322613E-07 \t BD - 6.1209888793656297E-07 \t CD - 1.8328147333157574E-10\n"
     ]
    }
   ],
   "source": [
    "# Run Trials\n",
    "for k in 1:length(fs)\n",
    "    x = xs[k]\n",
    "    f = fs[k]\n",
    "    f_true = f_trues[k]\n",
    "    @printf(\"f_%d:\\n\",k )\n",
    "    for i in 1:length(hs)\n",
    "      h = hs[i]\n",
    "      @printf(\"\\t %0.4f:\\n\", h)\n",
    "      @printf(\"\\t FD - %0.16E \\t BD - %0.16E \\t CD - %0.16E\\n\", abs(FD(f,x,h) - f_true), abs(BD(f,x,h)-f_true), abs(CD(f,x,h)-f_true))\n",
    "    end\n",
    "  end\n",
    "    "
   ]
  }
 ],
 "metadata": {
  "kernelspec": {
   "display_name": "Julia 1.8.5",
   "language": "julia",
   "name": "julia-1.8"
  },
  "language_info": {
   "file_extension": ".jl",
   "mimetype": "application/julia",
   "name": "julia",
   "version": "1.8.5"
  },
  "orig_nbformat": 4
 },
 "nbformat": 4,
 "nbformat_minor": 2
}
