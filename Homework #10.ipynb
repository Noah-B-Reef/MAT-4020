{
  "cells": [
    {
      "cell_type": "code",
      "execution_count": 28,
      "metadata": {
        "id": "QgyrO-7UwTy7",
        "outputId": "8c7084a3-75f3-4017-e4e7-b5a7a021dfc3",
        "colab": {
          "base_uri": "https://localhost:8080/"
        }
      },
      "outputs": [
        {
          "output_type": "stream",
          "name": "stdout",
          "text": [
            "Looking in indexes: https://pypi.org/simple, https://us-python.pkg.dev/colab-wheels/public/simple/\n",
            "Requirement already satisfied: pip in /usr/local/lib/python3.9/dist-packages (23.1)\n",
            "\u001b[33mWARNING: Running pip as the 'root' user can result in broken permissions and conflicting behaviour with the system package manager. It is recommended to use a virtual environment instead: https://pip.pypa.io/warnings/venv\u001b[0m\u001b[33m\n",
            "\u001b[0m"
          ]
        }
      ],
      "source": [
        "!python -m pip install --upgrade pip"
      ]
    },
    {
      "cell_type": "code",
      "execution_count": 29,
      "metadata": {
        "id": "TnEl5loXwTy-",
        "outputId": "0eb46cc9-3751-423e-f6bc-d6f9e33e6b46",
        "colab": {
          "base_uri": "https://localhost:8080/"
        }
      },
      "outputs": [
        {
          "output_type": "stream",
          "name": "stdout",
          "text": [
            "Looking in indexes: https://pypi.org/simple, https://us-python.pkg.dev/colab-wheels/public/simple/\n",
            "Requirement already satisfied: numpy in /usr/local/lib/python3.9/dist-packages (1.22.4)\n",
            "\u001b[33mWARNING: Running pip as the 'root' user can result in broken permissions and conflicting behaviour with the system package manager. It is recommended to use a virtual environment instead: https://pip.pypa.io/warnings/venv\u001b[0m\u001b[33m\n",
            "\u001b[0m"
          ]
        }
      ],
      "source": [
        "!pip install numpy"
      ]
    },
    {
      "cell_type": "code",
      "execution_count": 30,
      "metadata": {
        "scrolled": false,
        "id": "7wf7uTKGwTy_",
        "outputId": "0fb3c4d8-a43e-4a10-f7aa-df9bbaed9cb0",
        "colab": {
          "base_uri": "https://localhost:8080/"
        }
      },
      "outputs": [
        {
          "output_type": "stream",
          "name": "stdout",
          "text": [
            "Looking in indexes: https://pypi.org/simple, https://us-python.pkg.dev/colab-wheels/public/simple/\n",
            "Requirement already satisfied: scipy in /usr/local/lib/python3.9/dist-packages (1.10.1)\n",
            "Requirement already satisfied: numpy<1.27.0,>=1.19.5 in /usr/local/lib/python3.9/dist-packages (from scipy) (1.22.4)\n",
            "\u001b[33mWARNING: Running pip as the 'root' user can result in broken permissions and conflicting behaviour with the system package manager. It is recommended to use a virtual environment instead: https://pip.pypa.io/warnings/venv\u001b[0m\u001b[33m\n",
            "\u001b[0m"
          ]
        }
      ],
      "source": [
        "!pip install scipy"
      ]
    },
    {
      "cell_type": "code",
      "execution_count": 31,
      "metadata": {
        "id": "x6qxhx9UwTy_",
        "outputId": "c03a3a26-45a3-4a3a-beff-bc2bff61fd0f",
        "colab": {
          "base_uri": "https://localhost:8080/"
        }
      },
      "outputs": [
        {
          "output_type": "stream",
          "name": "stdout",
          "text": [
            "Looking in indexes: https://pypi.org/simple, https://us-python.pkg.dev/colab-wheels/public/simple/\n",
            "Requirement already satisfied: matplotlib in /usr/local/lib/python3.9/dist-packages (3.7.1)\n",
            "Requirement already satisfied: contourpy>=1.0.1 in /usr/local/lib/python3.9/dist-packages (from matplotlib) (1.0.7)\n",
            "Requirement already satisfied: cycler>=0.10 in /usr/local/lib/python3.9/dist-packages (from matplotlib) (0.11.0)\n",
            "Requirement already satisfied: fonttools>=4.22.0 in /usr/local/lib/python3.9/dist-packages (from matplotlib) (4.39.3)\n",
            "Requirement already satisfied: kiwisolver>=1.0.1 in /usr/local/lib/python3.9/dist-packages (from matplotlib) (1.4.4)\n",
            "Requirement already satisfied: numpy>=1.20 in /usr/local/lib/python3.9/dist-packages (from matplotlib) (1.22.4)\n",
            "Requirement already satisfied: packaging>=20.0 in /usr/local/lib/python3.9/dist-packages (from matplotlib) (23.0)\n",
            "Requirement already satisfied: pillow>=6.2.0 in /usr/local/lib/python3.9/dist-packages (from matplotlib) (8.4.0)\n",
            "Requirement already satisfied: pyparsing>=2.3.1 in /usr/local/lib/python3.9/dist-packages (from matplotlib) (3.0.9)\n",
            "Requirement already satisfied: python-dateutil>=2.7 in /usr/local/lib/python3.9/dist-packages (from matplotlib) (2.8.2)\n",
            "Requirement already satisfied: importlib-resources>=3.2.0 in /usr/local/lib/python3.9/dist-packages (from matplotlib) (5.12.0)\n",
            "Requirement already satisfied: zipp>=3.1.0 in /usr/local/lib/python3.9/dist-packages (from importlib-resources>=3.2.0->matplotlib) (3.15.0)\n",
            "Requirement already satisfied: six>=1.5 in /usr/local/lib/python3.9/dist-packages (from python-dateutil>=2.7->matplotlib) (1.16.0)\n",
            "\u001b[33mWARNING: Running pip as the 'root' user can result in broken permissions and conflicting behaviour with the system package manager. It is recommended to use a virtual environment instead: https://pip.pypa.io/warnings/venv\u001b[0m\u001b[33m\n",
            "\u001b[0m"
          ]
        }
      ],
      "source": [
        "!pip install matplotlib"
      ]
    },
    {
      "cell_type": "code",
      "execution_count": 32,
      "metadata": {
        "scrolled": true,
        "id": "VltoxRIFwTy_"
      },
      "outputs": [],
      "source": [
        "# Import Required Libraries\n",
        "import numpy as np\n",
        "import scipy\n",
        "import matplotlib.pyplot as plt"
      ]
    },
    {
      "cell_type": "code",
      "execution_count": 33,
      "metadata": {
        "id": "vI52HtAbwTzA"
      },
      "outputs": [],
      "source": [
        "# Define Function x*exp(-x)\n",
        "f = np.vectorize(lambda x : x*np.exp(-x))"
      ]
    },
    {
      "cell_type": "code",
      "execution_count": 34,
      "metadata": {
        "id": "ms7Z8A5zwTzA"
      },
      "outputs": [],
      "source": [
        "# Composite Trapezoidal Rule\n",
        "def trap(f,a,b,n):\n",
        "  h = (b-a)/n\n",
        "  if n == 1:\n",
        "    return h/2 * (f(a) + f(b))\n",
        "  else:\n",
        "    xs = a + np.arange(1,n+1)*h\n",
        "    f_interior = f(xs[0:n-1])\n",
        "    return h/2 * (f(a) + f(b)) + h * sum(f_interior)"
      ]
    },
    {
      "cell_type": "markdown",
      "metadata": {
        "id": "bg8oZQ38wTzB"
      },
      "source": [
        "## Problem \\#15\n",
        "Here we numerically compute the integral,\n",
        "\\begin{equation*}\n",
        "\\int_0^3xe^{-x}dx = 1 - \\frac{4}{e^3}\n",
        "\\end{equation*}\n",
        "using the Composite Trapezoid Rule, doing so yields\n",
        "\\begin{array}{c|c|c|c} h & approx & true & error \\\\ \\hline{} 0.3 & .793 & .801 & .00821\\end{array}\n",
        "thus giving us an error of,\n",
        "\\begin{equation*}\n",
        "error = .00821\n",
        "\\end{equation*}"
      ]
    },
    {
      "cell_type": "code",
      "execution_count": 35,
      "metadata": {
        "id": "Cf_0FKluwTzC",
        "outputId": "d5f7e3b5-0027-42a1-ea0f-70a7acedcdd5",
        "colab": {
          "base_uri": "https://localhost:8080/"
        }
      },
      "outputs": [
        {
          "output_type": "stream",
          "name": "stdout",
          "text": [
            "h        | Estimate   | Exact    | Error \n",
            "3.00e-01 | 7.93e-01   | 8.01e-01 | 8.21e-03 \n"
          ]
        }
      ],
      "source": [
        "# Parameters\n",
        "n = 10\n",
        "a = 0\n",
        "b = 3\n",
        "h = (b-a)/n\n",
        "\n",
        "# True \n",
        "exact = 1- 4/np.exp(3)\n",
        "\n",
        "# Estimate\n",
        "estimate = trap(f,a,b,n)\n",
        "\n",
        "# Compute Error\n",
        "err = abs(estimate - exact);\n",
        "\n",
        "# Display Results\n",
        "print(\"h        | Estimate   | Exact    | Error \")\n",
        "print(\"%8.2e | %8.2e   | %8.2e | %8.2e \"%(h, estimate, exact, err))"
      ]
    },
    {
      "cell_type": "markdown",
      "metadata": {
        "id": "EBd57zhcwTzC"
      },
      "source": [
        "## Problem \\#16\n",
        "Here we do something similar as above, but with a parameter sweep using $n$ subintervals for $n = 1,2,4,8,\\dots, 2^{30}$."
      ]
    },
    {
      "cell_type": "code",
      "execution_count": 36,
      "metadata": {
        "id": "QMZi9Ni5wTzC",
        "outputId": "e293bbab-22ba-4a18-baa6-9358d520bfb8",
        "colab": {
          "base_uri": "https://localhost:8080/"
        }
      },
      "outputs": [
        {
          "output_type": "stream",
          "name": "stdout",
          "text": [
            "h        | Estimate   | Exact    | Error \n",
            "3.00e+00 | 2.24e-01   | 8.01e-01 | 5.77e-01 \n",
            "1.50e+00 | 6.14e-01   | 8.01e-01 | 1.87e-01 \n",
            "7.50e-01 | 7.51e-01   | 8.01e-01 | 5.03e-02 \n",
            "3.75e-01 | 7.88e-01   | 8.01e-01 | 1.28e-02 \n",
            "1.88e-01 | 7.98e-01   | 8.01e-01 | 3.22e-03 \n",
            "9.38e-02 | 8.00e-01   | 8.01e-01 | 8.05e-04 \n",
            "4.69e-02 | 8.01e-01   | 8.01e-01 | 2.01e-04 \n",
            "2.34e-02 | 8.01e-01   | 8.01e-01 | 5.03e-05 \n",
            "1.17e-02 | 8.01e-01   | 8.01e-01 | 1.26e-05 \n",
            "5.86e-03 | 8.01e-01   | 8.01e-01 | 3.15e-06 \n",
            "2.93e-03 | 8.01e-01   | 8.01e-01 | 7.86e-07 \n",
            "1.46e-03 | 8.01e-01   | 8.01e-01 | 1.97e-07 \n",
            "7.32e-04 | 8.01e-01   | 8.01e-01 | 4.92e-08 \n",
            "3.66e-04 | 8.01e-01   | 8.01e-01 | 1.23e-08 \n",
            "1.83e-04 | 8.01e-01   | 8.01e-01 | 3.07e-09 \n",
            "9.16e-05 | 8.01e-01   | 8.01e-01 | 7.68e-10 \n",
            "4.58e-05 | 8.01e-01   | 8.01e-01 | 1.92e-10 \n",
            "2.29e-05 | 8.01e-01   | 8.01e-01 | 4.80e-11 \n",
            "1.14e-05 | 8.01e-01   | 8.01e-01 | 1.20e-11 \n",
            "5.72e-06 | 8.01e-01   | 8.01e-01 | 2.99e-12 \n"
          ]
        }
      ],
      "source": [
        "# Parameters\n",
        "a = 0\n",
        "b = 3\n",
        "\n",
        "# Exact\n",
        "exact = 1- 4/np.exp(3)\n",
        "\n",
        "estimates = [0] * 20\n",
        "errors =  [0] * 20\n",
        "hs =  [0] * 20\n",
        "\n",
        "n = 1 \n",
        "k = 0\n",
        "\n",
        "while k < 20:\n",
        "    # compute h\n",
        "    hs[k] = ((b-a)/n)\n",
        "\n",
        "    # compute estimate\n",
        "    estimates[k] = trap(f,a,b,n)\n",
        "\n",
        "    # compute error\n",
        "    errors[k] = abs(estimates[k] - exact)\n",
        "\n",
        "    # update rule\n",
        "    k = k + 1\n",
        "    n = 2**k\n",
        "\n",
        "# Display Results\n",
        "print(\"h        | Estimate   | Exact    | Error \")\n",
        "for i in range(20):\n",
        "  print(\"%8.2e | %8.2e   | %8.2e | %8.2e \"%(hs[i], estimates[i], exact, errors[i]))"
      ]
    },
    {
      "cell_type": "code",
      "execution_count": 37,
      "metadata": {
        "id": "s40rWLZewTzD",
        "outputId": "8be74179-b95c-4ffb-961b-161136a9dd20",
        "colab": {
          "base_uri": "https://localhost:8080/",
          "height": 471
        }
      },
      "outputs": [
        {
          "output_type": "execute_result",
          "data": {
            "text/plain": [
              "Text(0, 0.5, 'error')"
            ]
          },
          "metadata": {},
          "execution_count": 37
        },
        {
          "output_type": "display_data",
          "data": {
            "text/plain": [
              "<Figure size 640x480 with 1 Axes>"
            ],
            "image/png": "[encoded data removed]"
          },
          "metadata": {}
        }
      ],
      "source": [
        "plt.loglog(hs, errors)\n",
        "plt.xlabel(\"hs\")\n",
        "plt.ylabel(\"error\")"
      ]
    },
    {
      "cell_type": "markdown",
      "metadata": {
        "id": "h2tzA1znwTzD"
      },
      "source": [
        "Here we see that the rate of convergence is roughly,\n",
        "\\begin{equation*}\n",
        "\\approx \\frac{10^{-11} - 10^{-1}}{10^{-5}-10^{0}} \\to \\frac{10}{5} = 2\n",
        "\\end{equation*}\n",
        "thus we have a rate of converge of $O(h^2)$. This matches the result for the error of the composite trapezoid method having the form of $Lh^2$."
      ]
    },
    {
      "cell_type": "markdown",
      "metadata": {
        "id": "bWdWOMcHwTzD"
      },
      "source": [
        "## Problem \\#17\n",
        "Here we do something similar to question \\textbf{Problem \\#16} except for the integral,\n",
        "\\begin{equation*}\n",
        "\\end{equation*}"
      ]
    },
    {
      "cell_type": "code",
      "execution_count": 38,
      "metadata": {
        "id": "Ga3PupoYwTzE",
        "outputId": "34e23361-54e3-40ed-f63b-2e938ea83c09",
        "colab": {
          "base_uri": "https://localhost:8080/"
        }
      },
      "outputs": [
        {
          "output_type": "stream",
          "name": "stdout",
          "text": [
            "h        | Estimate   | Exact    | Error \n",
            "6.00e+00 | 7.40e-04   | 1.77e+00 | 1.77e+00 \n",
            "3.00e+00 | 3.00e+00   | 1.77e+00 | 1.23e+00 \n",
            "1.50e+00 | 1.82e+00   | 1.77e+00 | 4.40e-02 \n",
            "7.50e-01 | 1.77e+00   | 1.77e+00 | 5.45e-05 \n",
            "3.75e-01 | 1.77e+00   | 1.77e+00 | 1.62e-05 \n",
            "1.88e-01 | 1.77e+00   | 1.77e+00 | 4.26e-06 \n",
            "9.38e-02 | 1.77e+00   | 1.77e+00 | 1.08e-06 \n",
            "4.69e-02 | 1.77e+00   | 1.77e+00 | 2.71e-07 \n",
            "2.34e-02 | 1.77e+00   | 1.77e+00 | 6.78e-08 \n",
            "1.17e-02 | 1.77e+00   | 1.77e+00 | 1.69e-08 \n",
            "5.86e-03 | 1.77e+00   | 1.77e+00 | 4.24e-09 \n",
            "2.93e-03 | 1.77e+00   | 1.77e+00 | 1.06e-09 \n",
            "1.46e-03 | 1.77e+00   | 1.77e+00 | 2.65e-10 \n",
            "7.32e-04 | 1.77e+00   | 1.77e+00 | 6.62e-11 \n",
            "3.66e-04 | 1.77e+00   | 1.77e+00 | 1.65e-11 \n",
            "1.83e-04 | 1.77e+00   | 1.77e+00 | 4.15e-12 \n",
            "9.16e-05 | 1.77e+00   | 1.77e+00 | 1.05e-12 \n",
            "4.58e-05 | 1.77e+00   | 1.77e+00 | 2.66e-13 \n",
            "2.29e-05 | 1.77e+00   | 1.77e+00 | 8.33e-14 \n",
            "1.14e-05 | 1.77e+00   | 1.77e+00 | 1.91e-14 \n"
          ]
        }
      ],
      "source": [
        "f = lambda x : np.exp(-1*(x**2))\n",
        "exact = np.sqrt(np.pi) * scipy.special.erf(3)\n",
        "\n",
        "# Parameters\n",
        "a = -3\n",
        "b = 3\n",
        "\n",
        "estimates = [0] * 20\n",
        "errors =  [0] * 20\n",
        "hs =  [0] * 20\n",
        "\n",
        "n = 1 \n",
        "k = 0\n",
        "\n",
        "while k < 20:\n",
        "\n",
        "    # compute h\n",
        "    hs[k] = ((b-a)/n)\n",
        "\n",
        "    # compute estimate\n",
        "    estimates[k] = trap(f,a,b,n)\n",
        "\n",
        "    # compute error\n",
        "    errors[k] = abs(estimates[k] - exact)\n",
        "\n",
        "    # update rule\n",
        "    k = k + 1\n",
        "    n = 2**k\n",
        "\n",
        "# Display Results\n",
        "print(\"h        | Estimate   | Exact    | Error \")\n",
        "for i in range(20):\n",
        "  print(\"%8.2e | %8.2e   | %8.2e | %8.2e \"%(hs[i], estimates[i], exact, errors[i]))"
      ]
    },
    {
      "cell_type": "code",
      "execution_count": 39,
      "metadata": {
        "id": "VMeTLaBAwTzE",
        "outputId": "df5ae191-0564-4c2a-ca79-1469fb7efe97",
        "colab": {
          "base_uri": "https://localhost:8080/",
          "height": 471
        }
      },
      "outputs": [
        {
          "output_type": "execute_result",
          "data": {
            "text/plain": [
              "Text(0, 0.5, 'error')"
            ]
          },
          "metadata": {},
          "execution_count": 39
        },
        {
          "output_type": "display_data",
          "data": {
            "text/plain": [
              "<Figure size 640x480 with 1 Axes>"
            ],
            "image/png": "[encoded data removed]"
          },
          "metadata": {}
        }
      ],
      "source": [
        "plt.loglog(hs, errors)\n",
        "plt.grid()\n",
        "plt.xlabel(\"hs\")\n",
        "plt.ylabel(\"error\")"
      ]
    },
    {
      "cell_type": "markdown",
      "metadata": {
        "id": "ObJ-XzZOwTzE"
      },
      "source": [
        "Here we see that the rate of convergence is roughly,\n",
        "\\begin{equation*}\n",
        "\\approx \\frac{10^{-15} - 10^{-5}}{10^{-5}-10^{0}} \\to \\frac{10}{5} = 2\n",
        "\\end{equation*}\n",
        "thus we have a rate of converge of $O(h^2)$. This matches the result for the error of the composite trapezoid method having the form of $Lh^2$."
      ]
    },
    {
      "cell_type": "code",
      "execution_count": 40,
      "metadata": {
        "id": "JG3bAOIuwTzE",
        "outputId": "205883e5-e777-4b3d-e0eb-c145d975e252",
        "colab": {
          "base_uri": "https://localhost:8080/",
          "height": 466
        }
      },
      "outputs": [
        {
          "output_type": "execute_result",
          "data": {
            "text/plain": [
              "Text(0, 0.5, '$y = e^{-x^2}$')"
            ]
          },
          "metadata": {},
          "execution_count": 40
        },
        {
          "output_type": "display_data",
          "data": {
            "text/plain": [
              "<Figure size 640x480 with 1 Axes>"
            ],
            "image/png": "[encoded data removed]"
          },
          "metadata": {}
        }
      ],
      "source": [
        "x = np.linspace(-3,3,100)\n",
        "plt.plot(x,f(x))\n",
        "plt.xlabel(\"x\")\n",
        "plt.grid()\n",
        "plt.ylabel(\"$y = e^{-x^2}$\")"
      ]
    },
    {
      "cell_type": "markdown",
      "metadata": {
        "id": "8DE-Gw42wTzF"
      },
      "source": [
        "## Problem \\#18\n",
        "So we suspect for the Composite Trapezoidal rule, that for \\textit{even} functions the rate of convergence is $O(h^2)$ while for \\textit{odd} functions we suspect that the rate of convergence is $O(1)$. For example lets look at the even function,\n",
        "\\begin{equation*}\n",
        "f(x) = \\cos{x}\n",
        "\\end{equation*}\n",
        "and the odd function\n",
        "\\begin{equation*}\n",
        "g(x) = \\sin{x}\n",
        "\\end{equation*}\n",
        "Then since $f(x)$ is even we suspect that,\n",
        "\\begin{equation*}\n",
        "\\int_{-\\pi/2}^{\\pi/2}f(x)dx = 2\\int_0^{\\pi/2}f(x)dx = 2\n",
        "\\end{equation*}\n",
        "and since $g(x)$ is odd we suspect that,\n",
        "\\begin{equation*}\n",
        "\\int_{-\\pi/2}^{\\pi/2}g(x)dx = 0\n",
        "\\end{equation*}"
      ]
    },
    {
      "cell_type": "code",
      "execution_count": 41,
      "metadata": {
        "id": "BdYjZ4f7wTzF",
        "outputId": "7610ce83-df3d-4512-a50d-7843b5dfcf95",
        "colab": {
          "base_uri": "https://localhost:8080/"
        }
      },
      "outputs": [
        {
          "output_type": "stream",
          "name": "stdout",
          "text": [
            "h        | Estimate   | Exact    | Error \n",
            "3.14e+00 | 1.92e-16   | 2.00e+00 | 2.00e+00 \n",
            "1.57e+00 | 1.57e+00   | 2.00e+00 | 4.29e-01 \n",
            "7.85e-01 | 1.90e+00   | 2.00e+00 | 1.04e-01 \n",
            "3.93e-01 | 1.97e+00   | 2.00e+00 | 2.58e-02 \n",
            "1.96e-01 | 1.99e+00   | 2.00e+00 | 6.43e-03 \n",
            "9.82e-02 | 2.00e+00   | 2.00e+00 | 1.61e-03 \n",
            "4.91e-02 | 2.00e+00   | 2.00e+00 | 4.02e-04 \n",
            "2.45e-02 | 2.00e+00   | 2.00e+00 | 1.00e-04 \n",
            "1.23e-02 | 2.00e+00   | 2.00e+00 | 2.51e-05 \n",
            "6.14e-03 | 2.00e+00   | 2.00e+00 | 6.27e-06 \n",
            "3.07e-03 | 2.00e+00   | 2.00e+00 | 1.57e-06 \n",
            "1.53e-03 | 2.00e+00   | 2.00e+00 | 3.92e-07 \n",
            "7.67e-04 | 2.00e+00   | 2.00e+00 | 9.80e-08 \n",
            "3.83e-04 | 2.00e+00   | 2.00e+00 | 2.45e-08 \n",
            "1.92e-04 | 2.00e+00   | 2.00e+00 | 6.13e-09 \n",
            "9.59e-05 | 2.00e+00   | 2.00e+00 | 1.53e-09 \n",
            "4.79e-05 | 2.00e+00   | 2.00e+00 | 3.83e-10 \n",
            "2.40e-05 | 2.00e+00   | 2.00e+00 | 9.57e-11 \n",
            "1.20e-05 | 2.00e+00   | 2.00e+00 | 2.39e-11 \n",
            "5.99e-06 | 2.00e+00   | 2.00e+00 | 6.00e-12 \n"
          ]
        }
      ],
      "source": [
        "f = lambda x : np.cos(x)\n",
        "exact = 2\n",
        "\n",
        "# Parameters\n",
        "a = -np.pi/2\n",
        "b = np.pi/2\n",
        "\n",
        "estimates = [0] * 20\n",
        "errors =  [0] * 20\n",
        "hs =  [0] * 20\n",
        "\n",
        "n = 1 \n",
        "k = 0\n",
        "\n",
        "while k < 20:\n",
        "\n",
        "    # compute h\n",
        "    hs[k] = ((b-a)/n)\n",
        "\n",
        "    # compute estimate\n",
        "    estimates[k] = trap(f,a,b,n)\n",
        "\n",
        "    # compute error\n",
        "    errors[k] = abs(estimates[k] - exact)\n",
        "\n",
        "    # update rule\n",
        "    k = k + 1\n",
        "    n = 2**k\n",
        "\n",
        "# Display Results\n",
        "print(\"h        | Estimate   | Exact    | Error \")\n",
        "for i in range(20):\n",
        "  print(\"%8.2e | %8.2e   | %8.2e | %8.2e \"%(hs[i], estimates[i], exact, errors[i]))"
      ]
    },
    {
      "cell_type": "code",
      "execution_count": 42,
      "metadata": {
        "id": "0__ukxC5wTzF",
        "outputId": "beda6849-3099-41e7-de44-880407832db8",
        "colab": {
          "base_uri": "https://localhost:8080/",
          "height": 471
        }
      },
      "outputs": [
        {
          "output_type": "execute_result",
          "data": {
            "text/plain": [
              "Text(0, 0.5, 'error')"
            ]
          },
          "metadata": {},
          "execution_count": 42
        },
        {
          "output_type": "display_data",
          "data": {
            "text/plain": [
              "<Figure size 640x480 with 1 Axes>"
            ],
            "image/png": "[encoded data removed]"
          },
          "metadata": {}
        }
      ],
      "source": [
        "plt.loglog(hs, errors)\n",
        "plt.xlabel(\"hs\")\n",
        "plt.grid()\n",
        "plt.ylabel(\"error\")"
      ]
    },
    {
      "cell_type": "code",
      "execution_count": 43,
      "metadata": {
        "id": "A4nb83rewTzF",
        "outputId": "c4c4b450-835e-4617-c43c-5426fca1a0ae",
        "colab": {
          "base_uri": "https://localhost:8080/"
        }
      },
      "outputs": [
        {
          "output_type": "stream",
          "name": "stdout",
          "text": [
            "h        | Estimate   | Exact    | Error \n",
            "3.14e+00 | 0.00e+00   | 0.00e+00 | 0.00e+00 \n",
            "1.57e+00 | 0.00e+00   | 0.00e+00 | 0.00e+00 \n",
            "7.85e-01 | 0.00e+00   | 0.00e+00 | 0.00e+00 \n",
            "3.93e-01 | 0.00e+00   | 0.00e+00 | 0.00e+00 \n",
            "1.96e-01 | -4.36e-17   | 0.00e+00 | 4.36e-17 \n",
            "9.82e-02 | 9.81e-17   | 0.00e+00 | 9.81e-17 \n",
            "4.91e-02 | -1.14e-16   | 0.00e+00 | 1.14e-16 \n",
            "2.45e-02 | -2.04e-16   | 0.00e+00 | 2.04e-16 \n",
            "1.23e-02 | 3.81e-17   | 0.00e+00 | 3.81e-17 \n",
            "6.14e-03 | -4.29e-17   | 0.00e+00 | 4.29e-17 \n",
            "3.07e-03 | -5.99e-17   | 0.00e+00 | 5.99e-17 \n",
            "1.53e-03 | 1.90e-16   | 0.00e+00 | 1.90e-16 \n",
            "7.67e-04 | -6.69e-17   | 0.00e+00 | 6.69e-17 \n",
            "3.83e-04 | -1.21e-16   | 0.00e+00 | 1.21e-16 \n",
            "1.92e-04 | -5.17e-17   | 0.00e+00 | 5.17e-17 \n",
            "9.59e-05 | -2.27e-17   | 0.00e+00 | 2.27e-17 \n",
            "4.79e-05 | 3.24e-17   | 0.00e+00 | 3.24e-17 \n",
            "2.40e-05 | 8.99e-18   | 0.00e+00 | 8.99e-18 \n",
            "1.20e-05 | 1.14e-16   | 0.00e+00 | 1.14e-16 \n",
            "5.99e-06 | -5.36e-17   | 0.00e+00 | 5.36e-17 \n"
          ]
        }
      ],
      "source": [
        "f = lambda x : np.sin(x)\n",
        "exact = 0\n",
        "\n",
        "# Parameters\n",
        "a = -np.pi/2\n",
        "b = np.pi/2\n",
        "\n",
        "estimates = [0] * 20\n",
        "errors =  [0] * 20\n",
        "hs =  [0] * 20\n",
        "\n",
        "n = 1 \n",
        "k = 0\n",
        "\n",
        "while k < 20:\n",
        "\n",
        "    # compute h\n",
        "    hs[k] = ((b-a)/n)\n",
        "\n",
        "    # compute estimate\n",
        "    estimates[k] = trap(f,a,b,n)\n",
        "\n",
        "    # compute error\n",
        "    errors[k] = abs(estimates[k] - exact)\n",
        "\n",
        "    # update rule\n",
        "    k = k + 1\n",
        "    n = 2**k\n",
        "\n",
        "# Display Results\n",
        "print(\"h        | Estimate   | Exact    | Error \")\n",
        "for i in range(20):\n",
        "  print(\"%8.2e | %8.2e   | %8.2e | %8.2e \"%(hs[i], estimates[i], exact, errors[i]))"
      ]
    },
    {
      "cell_type": "code",
      "execution_count": 44,
      "metadata": {
        "id": "dHYHSD4XwTzF",
        "outputId": "a0fd3263-1c3b-4096-9630-4fbf48ba2d12",
        "colab": {
          "base_uri": "https://localhost:8080/",
          "height": 471
        }
      },
      "outputs": [
        {
          "output_type": "execute_result",
          "data": {
            "text/plain": [
              "Text(0, 0.5, 'error')"
            ]
          },
          "metadata": {},
          "execution_count": 44
        },
        {
          "output_type": "display_data",
          "data": {
            "text/plain": [
              "<Figure size 640x480 with 1 Axes>"
            ],
            "image/png": "[encoded data removed]"
          },
          "metadata": {}
        }
      ],
      "source": [
        "plt.loglog(hs, errors)\n",
        "plt.xlabel(\"hs\")\n",
        "plt.grid()\n",
        "plt.ylabel(\"error\")"
      ]
    },
    {
      "cell_type": "markdown",
      "metadata": {
        "id": "SBzvpE2XwTzG"
      },
      "source": [
        "Here we deduce that the erratic error for $g(x)$ is due to machine error."
      ]
    }
  ],
  "metadata": {
    "kernelspec": {
      "display_name": "Python 3",
      "language": "python",
      "name": "python3"
    },
    "language_info": {
      "codemirror_mode": {
        "name": "ipython",
        "version": 3
      },
      "file_extension": ".py",
      "mimetype": "text/x-python",
      "name": "python",
      "nbconvert_exporter": "python",
      "pygments_lexer": "ipython3",
      "version": "3.8.2"
    },
    "colab": {
      "provenance": []
    }
  },
  "nbformat": 4,
  "nbformat_minor": 0
}